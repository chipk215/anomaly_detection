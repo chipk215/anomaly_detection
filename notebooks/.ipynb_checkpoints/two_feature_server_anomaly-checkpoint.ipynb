{
 "cells": [
  {
   "cell_type": "markdown",
   "metadata": {},
   "source": [
    "## Detect Anomalous Server Activity\n"
   ]
  },
  {
   "cell_type": "code",
   "execution_count": 3,
   "metadata": {},
   "outputs": [],
   "source": [
    "import scipy.io as spio\n",
    "import scipy.stats as stats\n",
    "from scipy.stats import multivariate_normal\n",
    "import matplotlib.pyplot as plt\n",
    "import numpy as np\n",
    "\n",
    "%matplotlib inline"
   ]
  },
  {
   "cell_type": "markdown",
   "metadata": {},
   "source": [
    "The demonstration data consists of 307 data points collected from a data center. Each data point corresponds to a server measurement and consists of two values (features); a latency measurement in mSec and a throughput measurement in Mbs."
   ]
  },
  {
   "cell_type": "code",
   "execution_count": 4,
   "metadata": {},
   "outputs": [],
   "source": [
    "mat_data = spio.loadmat('../data/server_latency_throughput.mat')\n",
    "X = mat_data.get('X')\n",
    "latency = X[:,0]\n",
    "throughput = X[:,1]\n"
   ]
  },
  {
   "cell_type": "markdown",
   "metadata": {},
   "source": [
    "#### Histogram the two features and scatter plot them together."
   ]
  },
  {
   "cell_type": "code",
   "execution_count": 150,
   "metadata": {},
   "outputs": [
    {
     "data": {
      "text/plain": [
       "Text(0.5,1,'Throughput vs Latency')"
      ]
     },
     "execution_count": 150,
     "metadata": {},
     "output_type": "execute_result"
    },
    {
     "data": {
      "image/png": "[encoded data removed]",
      "text/plain": [
       "<Figure size 432x288 with 3 Axes>"
      ]
     },
     "metadata": {
      "needs_background": "light"
     },
     "output_type": "display_data"
    }
   ],
   "source": [
    "fig, axes = plt.subplots(nrows=1, ncols=3)\n",
    "fig.tight_layout()\n",
    "axes[0].hist(latency, density=False)\n",
    "axes[0].set_title(\"Latency\")\n",
    "axes[1].hist(throughput, density=False)\n",
    "axes[1].set_title(\"Throughput\")\n",
    "axes[2].scatter(latency,throughput)\n",
    "axes[2].set_title(\"Throughput vs Latency\")"
   ]
  },
  {
   "cell_type": "markdown",
   "metadata": {},
   "source": [
    "#### Compute gaussian estimate parameters"
   ]
  },
  {
   "cell_type": "code",
   "execution_count": 7,
   "metadata": {},
   "outputs": [],
   "source": [
    "x_transpose = np.transpose(X)\n",
    "# mean\n",
    "mu = np.mean(x_transpose, axis=1)\n",
    "\n",
    "# covariance\n",
    "sigma = np.cov(x_transpose, bias=True)\n",
    "\n",
    "# Outstanding question on why the results are better if only the variances are used from the covariance matrix\n",
    "p = multivariate_normal.pdf(X, mu, sigma.diagonal())"
   ]
  },
  {
   "cell_type": "code",
   "execution_count": 8,
   "metadata": {},
   "outputs": [],
   "source": [
    "def visualize_fit(X, mu, sigma):\n",
    "    n = np.arange(0, 35.5, 0.5)\n",
    "    x1,x2 = np.meshgrid(n,n)\n",
    "\n",
    "    Z = multivariate_normal.pdf(np.column_stack((x1.reshape(5041,1), x2.reshape(5041, 1))), mu, sigma.diagonal())\n",
    "    print(Z.shape)\n",
    "    Z = Z.reshape(x1.shape)\n",
    "    plt.plot(X[:,0], X[:,1], 'bx')\n",
    "\n",
    "    if np.isinf(Z).sum() == 0:\n",
    "        plt.contour(x1,x2,Z)"
   ]
  },
  {
   "cell_type": "code",
   "execution_count": 9,
   "metadata": {},
   "outputs": [
    {
     "name": "stdout",
     "output_type": "stream",
     "text": [
      "(5041,)\n"
     ]
    },
    {
     "data": {
      "image/png": "[encoded data removed]",
      "text/plain": [
       "<Figure size 432x288 with 1 Axes>"
      ]
     },
     "metadata": {
      "needs_background": "light"
     },
     "output_type": "display_data"
    }
   ],
   "source": [
    "\n",
    "p = multivariate_normal.pdf(X,mu, sigma.diagonal())\n",
    "visualize_fit(X, mu,  sigma)"
   ]
  },
  {
   "cell_type": "markdown",
   "metadata": {},
   "source": [
    "Determine probability threshold for classifying anomalies.\n",
    "\n",
    "Predicted Positives = true positives + false positives     \n",
    "Actual Positives = true positives + false negatives\n",
    "\n",
    "Precision - true positives/number of predicted positives        \n",
    "Recall - true positives / number of actual positives\n",
    "\n",
    "F1 Score = 2 * Precision * Recall/(Precision + Recall)\n",
    "\n",
    "Epsilon is the probability threshold for classifying anomalies. If the probability of a sample is less than epsilon it is classified as an anomaly."
   ]
  },
  {
   "cell_type": "code",
   "execution_count": 10,
   "metadata": {},
   "outputs": [],
   "source": [
    "def select_threshold(y_val, p_val):\n",
    "    \n",
    "    def compute_precision(true_positives, false_positives):\n",
    "        if (true_positives + false_positives) != 0:\n",
    "            precision = true_positives/(true_positives + false_positives)\n",
    "        else:\n",
    "            precision = 0\n",
    "        return precision\n",
    "\n",
    "    def compute_recall(true_positives, false_negatives):\n",
    "        if (true_positives + false_negatives) != 0:\n",
    "            recall = true_positives/(true_positives + false_negatives)\n",
    "        else:\n",
    "            recall = 0\n",
    "        return recall\n",
    "\n",
    "    def compute_f1(precision, recall):\n",
    "        if (precision + recall) != 0:\n",
    "            f1 = 2 * precision * recall/(precision + recall)\n",
    "        else:\n",
    "            f1 = 0\n",
    "        return f1\n",
    "\n",
    "    best_epsilon = 0\n",
    "    best_f1 = 0\n",
    "    f1 = 0\n",
    "    best_f1_precision = 0\n",
    "    best_f1_recall = 0\n",
    "    p_min =  p_val.min()\n",
    "    p_max = p_val.max()\n",
    "    step_size = (p_val.max() - p_val.min())/ 1000\n",
    "\n",
    "    epsilon= p_min\n",
    "    while epsilon < p_max:\n",
    "        predictions = p_val < epsilon\n",
    "        false_positives = np.sum(np.logical_and((predictions == 1), (y_val == 0)))\n",
    "        true_positives = np.sum(np.logical_and((predictions == 1), (y_val== 1)))\n",
    "        false_negatives = np.sum(np.logical_and((predictions == 0), (y_val== 1)))\n",
    "        precision = compute_precision(true_positives, false_positives)\n",
    "        recall = compute_recall(true_positives, false_negatives)\n",
    "        f1 = compute_f1(precision, recall)\n",
    "        \n",
    "        if f1 > best_f1:\n",
    "            best_f1 = f1\n",
    "            best_f1_recall = recall\n",
    "            best_f1_precision = precision\n",
    "            best_epsilon = epsilon\n",
    "\n",
    "        epsilon = epsilon + step_size\n",
    "\n",
    "    return best_epsilon, best_f1, best_f1_recall, best_f1_precision\n"
   ]
  },
  {
   "cell_type": "markdown",
   "metadata": {},
   "source": [
    "Determine the threshold with a small set of labeled data, the \"cross validation data set\""
   ]
  },
  {
   "cell_type": "code",
   "execution_count": 13,
   "metadata": {},
   "outputs": [
    {
     "name": "stdout",
     "output_type": "stream",
     "text": [
      "epsilon=  8.990852779269496e-05\n",
      "f1=  0.8750000000000001\n",
      "precision=  1.0\n",
      "recall=  0.7777777777777778\n",
      "Number of outliers found:  6\n",
      "(5041,)\n"
     ]
    },
    {
     "data": {
      "text/plain": [
       "[<matplotlib.lines.Line2D at 0x1a1fc0d5c0>]"
      ]
     },
     "execution_count": 13,
     "metadata": {},
     "output_type": "execute_result"
    },
    {
     "data": {
      "image/png": "[encoded data removed]",
      "text/plain": [
       "<Figure size 432x288 with 1 Axes>"
      ]
     },
     "metadata": {
      "needs_background": "light"
     },
     "output_type": "display_data"
    }
   ],
   "source": [
    "x_val = mat_data.get('Xval')\n",
    "y_val = mat_data.get('yval')\n",
    "y_val= np.reshape(y_val, y_val.shape[0])\n",
    "p_val = multivariate_normal.pdf(x_val,mu, sigma.diagonal())\n",
    "(epsilon, f1, recall, precision) = select_threshold(y_val, p_val)\n",
    "print(\"epsilon= \", epsilon)\n",
    "print(\"f1= \", f1)\n",
    "print(\"precision= \", precision)\n",
    "print(\"recall= \", recall)\n",
    "outliers = np.where(p < epsilon)\n",
    "print(\"Number of outliers found:  \" + repr(outliers[0].size))\n",
    "visualize_fit(X, mu,  sigma)\n",
    "plot1 = X[outliers,0][0]\n",
    "plot2 = X[outliers,1][0]\n",
    "plt.plot(plot1, plot2, 'ro', mfc='none',linewidth=2, markersize=10)"
   ]
  },
  {
   "cell_type": "markdown",
   "metadata": {},
   "source": [
    "##### (Reminder code) Subtraction with broadcasting"
   ]
  },
  {
   "cell_type": "code",
   "execution_count": 177,
   "metadata": {},
   "outputs": [
    {
     "name": "stdout",
     "output_type": "stream",
     "text": [
      "[[ 2  4  6]\n",
      " [20 40 60]] (2, 3)\n",
      "[ 1 10] (2,)\n",
      "\n",
      "[[ 1  3  5]\n",
      " [10 30 50]] (2, 3)\n",
      "[[  35  350]\n",
      " [ 350 3500]] (2, 2)\n"
     ]
    }
   ],
   "source": [
    "x1 = np.array([[2,4,6],[20,40,60]])\n",
    "print(x1,x1.shape)\n",
    "x2 = np.array([1,10])\n",
    "print(x2,x2.shape)\n",
    "result = x1 - x2[:, np.newaxis]\n",
    "print()\n",
    "print(result, result.shape)\n",
    "\n",
    "mat_result = np.matrix(result)\n",
    "product = mat_result * mat_result.transpose()\n",
    "print(product, product.shape)"
   ]
  }
 ],
 "metadata": {
  "kernelspec": {
   "display_name": "Python 3",
   "language": "python",
   "name": "python3"
  },
  "language_info": {
   "codemirror_mode": {
    "name": "ipython",
    "version": 3
   },
   "file_extension": ".py",
   "mimetype": "text/x-python",
   "name": "python",
   "nbconvert_exporter": "python",
   "pygments_lexer": "ipython3",
   "version": "3.7.0"
  }
 },
 "nbformat": 4,
 "nbformat_minor": 2
}
