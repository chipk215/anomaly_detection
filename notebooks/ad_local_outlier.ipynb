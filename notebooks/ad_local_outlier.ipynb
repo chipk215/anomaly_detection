{
 "cells": [
  {
   "cell_type": "markdown",
   "metadata": {},
   "source": [
    "## Local Outlier Factor Detection"
   ]
  },
  {
   "cell_type": "code",
   "execution_count": 1,
   "metadata": {},
   "outputs": [],
   "source": [
    "import matplotlib.pyplot as plt\n",
    "import numpy as np\n",
    "import scipy.io as spio\n",
    "from sklearn.neighbors import LocalOutlierFactor\n",
    "\n",
    "%matplotlib inline"
   ]
  },
  {
   "cell_type": "code",
   "execution_count": 10,
   "metadata": {},
   "outputs": [],
   "source": [
    "def compute_precision(true_positives, false_positives):\n",
    "    if (true_positives + false_positives) != 0:\n",
    "        precision = true_positives / (true_positives + false_positives)\n",
    "    else:\n",
    "        precision = 0\n",
    "    return precision"
   ]
  },
  {
   "cell_type": "code",
   "execution_count": 3,
   "metadata": {},
   "outputs": [],
   "source": [
    "def compute_recall(true_positives, false_negatives):\n",
    "    if (true_positives + false_negatives) != 0:\n",
    "        recall = true_positives / (true_positives + false_negatives)\n",
    "    else:\n",
    "        recall = 0\n",
    "    return recall"
   ]
  },
  {
   "cell_type": "code",
   "execution_count": 4,
   "metadata": {},
   "outputs": [],
   "source": [
    "def compute_f1(precision, recall):\n",
    "    if (precision + recall) != 0:\n",
    "        f1 = 2 * precision * recall / (precision + recall)\n",
    "    else:\n",
    "        f1 = 0\n",
    "    return f1"
   ]
  },
  {
   "cell_type": "code",
   "execution_count": 5,
   "metadata": {},
   "outputs": [],
   "source": [
    "def read_matlab_data(file_name):\n",
    "    data = spio.loadmat(file_name)\n",
    "    return data"
   ]
  },
  {
   "cell_type": "code",
   "execution_count": 14,
   "metadata": {},
   "outputs": [],
   "source": [
    "def run_cross_validation():\n",
    "    small_data = read_matlab_data('../data/server_latency_throughput.mat')\n",
    "    x_cross_validation = small_data.get('Xval')\n",
    "    y_val = small_data.get('yval')\n",
    "    number_outliers = y_val.sum()\n",
    "    print(\"Cross validation outlier count: \", number_outliers)\n",
    "    error_boundary_index = int( y_val.shape[0] - number_outliers)\n",
    "    temp = np.concatenate((x_cross_validation, y_val), axis=1)\n",
    "    last_column = temp.shape[1] - 1\n",
    "    # sort by last column\n",
    "    temp = temp[temp[:, last_column].argsort()]\n",
    "    x_cross_sorted = temp[:, :last_column]\n",
    "    y_val_sorted = temp[:, last_column]\n",
    "    y_val_sorted = np.reshape(y_val_sorted, y_val_sorted.shape[0])\n",
    "    y_val_sorted = np.asanyarray(y_val_sorted, dtype=np.int64)\n",
    "\n",
    "    # change outliers to -1, inliers to 1\n",
    "    y_val_sorted[y_val_sorted == 1] = -1\n",
    "    y_val_sorted[y_val_sorted == 0] = 1\n",
    "\n",
    "    model = LocalOutlierFactor(n_neighbors=20)\n",
    "    y_predict = model.fit_predict(x_cross_sorted)\n",
    "    outliers = np.where(y_predict == -1)\n",
    "    inliers = np.where(y_predict == 1)\n",
    "    print(\"Number of predicted inliers= \", inliers[0].size)\n",
    "    print(\"Number of predicted outliers= \", outliers[0].size)\n",
    "\n",
    "    errors = y_val_sorted != y_predict\n",
    "    print(\"Training errors= \", (errors == True).sum())\n",
    "\n",
    "    # the first error_boundary_index rows correspond to inliers\n",
    "\n",
    "    # false positives- inliers predicted as outliers\n",
    "    false_positives = (y_predict[:error_boundary_index] == -1).sum()\n",
    "    print(\"false positives= \", false_positives)\n",
    "\n",
    "    # false negatives- outliers predicted as inliers\n",
    "    false_negatives = (y_predict[ error_boundary_index:] == 1).sum()\n",
    "    print(\"false negatives= \", false_negatives)\n",
    "\n",
    "    # true positives - outliers predicted to be outliers\n",
    "    true_positives = (y_predict[error_boundary_index:] == -1).sum()\n",
    "    print(\"true positives= \", true_positives)\n",
    "    precision = compute_precision(true_positives, false_positives)\n",
    "    recall = compute_recall(true_positives, false_negatives)\n",
    "    f1 = compute_f1(precision, recall)\n",
    "    print(\"F1 = \", f1)\n",
    "    print(\"Precision = \", f1)\n",
    "    print(\"Recall = \", f1)\n",
    "    n = np.arange(0, 35.5, 0.5)\n",
    "    xx, yy = np.meshgrid(n, n)\n",
    "    Z = model._decision_function(np.c_[xx.ravel(), yy.ravel()])\n",
    "    Z = Z.reshape(xx.shape)\n",
    "\n",
    "    plt.title(\"Local Outlier Factor (LOF)\")\n",
    "    plt.contourf(xx, yy, Z, cmap=plt.cm.Blues_r)\n",
    "    in_data = plt.scatter(x_cross_sorted[inliers, 0], x_cross_sorted[inliers, 1], c='white',\n",
    "                          edgecolor='k', s=20, label='inliers')\n",
    "\n",
    "    out_data = plt.scatter(x_cross_sorted[outliers, 0], x_cross_sorted[outliers, 1], c='red',\n",
    "                           edgecolor='k', s=20, label='outliers')\n",
    "\n",
    "    error_plot, = plt.plot(x_cross_sorted[errors, 0], x_cross_sorted[errors, 1],\n",
    "                           'ro', mfc='none', linewidth=2, markersize=10, label=\"error\")\n",
    "\n",
    "    plt.legend(handles=[in_data, out_data, error_plot], loc=\"upper left\")\n",
    "\n"
   ]
  },
  {
   "cell_type": "code",
   "execution_count": 17,
   "metadata": {},
   "outputs": [],
   "source": [
    "def run_samples():\n",
    "    small_data = read_matlab_data('../data/server_latency_throughput.mat')\n",
    "\n",
    "    X = small_data.get('X')\n",
    "    model = LocalOutlierFactor(n_neighbors=20)\n",
    "    y_predict = model.fit_predict(X)\n",
    "    outliers = np.where(y_predict == -1)\n",
    "    inliers = np.where(y_predict == 1)\n",
    "    print(\"Number of inliers= \", inliers[0].size)\n",
    "    print(\"Number of outliers= \", outliers[0].size)\n",
    "\n",
    "    n = np.arange(0, 35.5, 0.5)\n",
    "    xx, yy = np.meshgrid(n, n)\n",
    "    Z = model._decision_function(np.c_[xx.ravel(), yy.ravel()])\n",
    "    Z = Z.reshape(xx.shape)\n",
    "\n",
    "    plt.title(\"Local Outlier Factor (LOF)\")\n",
    "    plt.contourf(xx, yy, Z, cmap=plt.cm.Blues_r)\n",
    "    in_data = plt.scatter(X[inliers, 0], X[inliers, 1], c='white',\n",
    "                          edgecolor='k', s=20, label='inliers')\n",
    "\n",
    "    out_data = plt.scatter(X[outliers, 0], X[outliers, 1], c='red',\n",
    "                           edgecolor='k', s=20, label='outliers')\n",
    "\n",
    "    plt.legend(handles=[in_data, out_data], loc=\"upper left\")\n",
    "    "
   ]
  },
  {
   "cell_type": "code",
   "execution_count": 15,
   "metadata": {},
   "outputs": [
    {
     "name": "stdout",
     "output_type": "stream",
     "text": [
      "Cross validation outlier count:  9\n",
      "Number of predicted inliers=  276\n",
      "Number of predicted outliers=  31\n",
      "Training errors=  26\n",
      "false positives=  24\n",
      "false negatives=  2\n",
      "true positives=  7\n",
      "F1 =  0.35000000000000003\n",
      "Precision =  0.35000000000000003\n",
      "Recall =  0.35000000000000003\n"
     ]
    },
    {
     "data": {
      "image/png": "[encoded data removed]",
      "text/plain": [
       "<Figure size 432x288 with 1 Axes>"
      ]
     },
     "metadata": {},
     "output_type": "display_data"
    }
   ],
   "source": [
    "# run against labeld cross validation data\n",
    "run_cross_validation()"
   ]
  },
  {
   "cell_type": "code",
   "execution_count": 18,
   "metadata": {},
   "outputs": [
    {
     "name": "stdout",
     "output_type": "stream",
     "text": [
      "Number of inliers=  276\n",
      "Number of outliers=  31\n"
     ]
    },
    {
     "data": {
      "image/png": "[encoded data removed]",
      "text/plain": [
       "<Figure size 432x288 with 1 Axes>"
      ]
     },
     "metadata": {},
     "output_type": "display_data"
    }
   ],
   "source": [
    "# Run against unlabled sample data\n",
    "run_samples()"
   ]
  },
  {
   "cell_type": "code",
   "execution_count": null,
   "metadata": {},
   "outputs": [],
   "source": []
  }
 ],
 "metadata": {
  "kernelspec": {
   "display_name": "Python 3",
   "language": "python",
   "name": "python3"
  },
  "language_info": {
   "codemirror_mode": {
    "name": "ipython",
    "version": 3
   },
   "file_extension": ".py",
   "mimetype": "text/x-python",
   "name": "python",
   "nbconvert_exporter": "python",
   "pygments_lexer": "ipython3",
   "version": "3.6.5"
  }
 },
 "nbformat": 4,
 "nbformat_minor": 2
}
